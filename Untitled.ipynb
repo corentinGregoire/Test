{
 "cells": [
  {
   "cell_type": "code",
   "execution_count": 2,
   "id": "db92f62b",
   "metadata": {},
   "outputs": [
    {
     "name": "stdout",
     "output_type": "stream",
     "text": [
      "Requirement already satisfied: pyttsx3 in d:\\python\\lib\\site-packages (2.90)\n",
      "Requirement already satisfied: comtypes in d:\\python\\lib\\site-packages (from pyttsx3) (1.1.10)\n",
      "Requirement already satisfied: pywin32 in d:\\python\\lib\\site-packages (from pyttsx3) (228)\n",
      "Requirement already satisfied: pypiwin32 in d:\\python\\lib\\site-packages (from pyttsx3) (223)\n"
     ]
    }
   ],
   "source": [
    "!pip install pyttsx3"
   ]
  },
  {
   "cell_type": "code",
   "execution_count": 3,
   "id": "7514c057",
   "metadata": {},
   "outputs": [
    {
     "name": "stdout",
     "output_type": "stream",
     "text": [
      "Requirement already satisfied: pypiwin32 in d:\\python\\lib\\site-packages (223)\n",
      "Requirement already satisfied: pywin32>=223 in d:\\python\\lib\\site-packages (from pypiwin32) (228)\n",
      "Note: you may need to restart the kernel to use updated packages.\n"
     ]
    }
   ],
   "source": [
    "pip install pypiwin32"
   ]
  },
  {
   "cell_type": "code",
   "execution_count": 36,
   "id": "e357c725",
   "metadata": {},
   "outputs": [],
   "source": [
    "# Python program to show\n",
    "# how to convert text to speech\n",
    "import pyttsx3\n",
    "  \n",
    "# Initialize the converter\n",
    "converter = pyttsx3.init()\n",
    "  \n",
    "# Set properties before adding\n",
    "# Things to say\n",
    "  \n",
    "# Sets speed percent \n",
    "# Can be more than 100\n",
    "converter.setProperty('rate', 150)\n",
    "# Set volume 0-1\n",
    "converter.setProperty('volume', 1)\n",
    "  \n",
    "# Queue the entered text \n",
    "# There will be a pause between\n",
    "# each one like a pause in \n",
    "# a sentence\n",
    "converter.say(\"\")\n",
    "converter.say(\"\")\n",
    "  \n",
    "# Empties the say() queue\n",
    "# Program will not continue\n",
    "# until all speech is done talking\n",
    "converter.runAndWait()"
   ]
  },
  {
   "cell_type": "code",
   "execution_count": 129,
   "id": "d563520b",
   "metadata": {},
   "outputs": [],
   "source": [
    "import json\n",
    "\n",
    "with open(\"C:/Users/coren/Downloads/testing_dataset_1662568990.json\", encoding='utf-8') as mon_fichier:\n",
    "    data = json.load(mon_fichier)"
   ]
  },
  {
   "cell_type": "code",
   "execution_count": 130,
   "id": "0716b996",
   "metadata": {},
   "outputs": [],
   "source": [
    " import time\n",
    "heure = time.ctime()\n",
    "heure = heure.split()\n",
    "heure = heure[3]"
   ]
  },
  {
   "cell_type": "code",
   "execution_count": 131,
   "id": "0f40d775",
   "metadata": {},
   "outputs": [],
   "source": [
    "heure = heure[0:5]"
   ]
  },
  {
   "cell_type": "code",
   "execution_count": 132,
   "id": "7bbc5b1b",
   "metadata": {},
   "outputs": [],
   "source": [
    "types = [\"demande\", \"reponse\", \"heure\",\"CNAM\"] \n",
    "intention = [\"demande\", \"reponse\", \"heure\", \"cnam\"]"
   ]
  },
  {
   "cell_type": "code",
   "execution_count": 133,
   "id": "4b11bca3",
   "metadata": {},
   "outputs": [],
   "source": [
    "phrases = []\n",
    "categorie = []\n",
    "for a in types:\n",
    "    for i in range(len(data[a])):\n",
    "            phrases.append(data[a][i][0][\"value\"])\n",
    "            categorie.append(a)"
   ]
  },
  {
   "cell_type": "code",
   "execution_count": 134,
   "id": "5cfa99c2",
   "metadata": {},
   "outputs": [],
   "source": [
    "import pandas as pd"
   ]
  },
  {
   "cell_type": "code",
   "execution_count": 153,
   "id": "9624e901",
   "metadata": {},
   "outputs": [],
   "source": [
    "texte = pd.DataFrame(data =categorie,columns = [\"categorie\"])\n",
    "from sklearn.preprocessing import LabelEncoder\n",
    "texte[\"id\"] = LabelEncoder().fit_transform(texte[\"categorie\"])"
   ]
  },
  {
   "cell_type": "code",
   "execution_count": 136,
   "id": "4062e04e",
   "metadata": {},
   "outputs": [],
   "source": [
    "texte[\"text\"] = phrases"
   ]
  },
  {
   "cell_type": "code",
   "execution_count": 137,
   "id": "3d9c6535",
   "metadata": {},
   "outputs": [
    {
     "name": "stderr",
     "output_type": "stream",
     "text": [
      "C:\\Users\\coren\\AppData\\Local\\Temp/ipykernel_21148/1875386489.py:2: FutureWarning: The default value of regex will change from True to False in a future version.\n",
      "  texte['text'] = texte['text'].str.replace(r'[^\\w\\s]+', '')\n"
     ]
    }
   ],
   "source": [
    "texte[\"text\"] = texte[\"text\"].str.lower()\n",
    "texte['text'] = texte['text'].str.replace(r'[^\\w\\s]+', '')\n",
    "texte['text'] = texte['text'].str.replace(r'_', '')\n",
    "texte['text'] = texte['text'].str.normalize('NFKD').str.encode('ascii', errors='ignore').str.decode('utf-8')\n",
    "stop_words = pd.read_excel(\"C:/Users/coren/Downloads/titanic/stop_words.xlsx\")\n",
    "stop_words['mots'] = stop_words['mots'].str.replace(r'[^\\w\\s]+', '')\n",
    "mots = stop_words['mots'].tolist()\n",
    "import re\n",
    "texte['words'] = texte[\"text\"].apply(lambda x: ' '.join([word for word in x.split() if word not in (mots) ]))\n",
    "from nltk.stem.snowball import SnowballStemmer\n",
    "\n",
    "# Use English stemmer.\n",
    "stemmer = SnowballStemmer(\"french\")\n",
    "texte['stemmed'] = texte['words'].apply(lambda x:  ' '.join([stemmer.stem(y) for y in x.split()]))"
   ]
  },
  {
   "cell_type": "code",
   "execution_count": 144,
   "id": "017ac832",
   "metadata": {},
   "outputs": [],
   "source": [
    "from sklearn.feature_extraction.text import CountVectorizer"
   ]
  },
  {
   "cell_type": "code",
   "execution_count": 146,
   "id": "0c7b3209",
   "metadata": {},
   "outputs": [],
   "source": [
    "cv = CountVectorizer(ngram_range=(1, 2),  max_features=12000) \n",
    "train_matrix = cv.fit(texte['stemmed'])\n",
    "matrice = train_matrix.transform(texte['stemmed'])"
   ]
  },
  {
   "cell_type": "code",
   "execution_count": 154,
   "id": "3e3ab842",
   "metadata": {},
   "outputs": [],
   "source": [
    "df_train = pd.DataFrame(matrice.toarray(), index=texte[\"id\"], columns=cv.get_feature_names())"
   ]
  },
  {
   "cell_type": "code",
   "execution_count": 156,
   "id": "df78b846",
   "metadata": {},
   "outputs": [],
   "source": [
    "X = df_train.values\n",
    "Y = df_train.index"
   ]
  },
  {
   "cell_type": "code",
   "execution_count": 157,
   "id": "4729c823",
   "metadata": {},
   "outputs": [],
   "source": [
    "from sklearn.model_selection import train_test_split\n",
    "X_train, X_test, y_train, y_test = train_test_split(X, Y, test_size=0.33, random_state=42)"
   ]
  },
  {
   "cell_type": "code",
   "execution_count": 159,
   "id": "9b83ccab",
   "metadata": {},
   "outputs": [],
   "source": [
    "from sklearn.linear_model import LogisticRegression\n",
    "lr = LogisticRegression(solver = 'liblinear')\n",
    "modele = lr.fit(X_train, y_train)\n",
    "y_pred = modele.predict(X_test)"
   ]
  },
  {
   "cell_type": "code",
   "execution_count": 160,
   "id": "758d671b",
   "metadata": {},
   "outputs": [
    {
     "name": "stdout",
     "output_type": "stream",
     "text": [
      "0.8823529411764706\n"
     ]
    }
   ],
   "source": [
    "from sklearn.metrics import accuracy_score\n",
    "print(accuracy_score(y_pred, y_test))"
   ]
  },
  {
   "cell_type": "code",
   "execution_count": null,
   "id": "f86bca04",
   "metadata": {},
   "outputs": [],
   "source": []
  }
 ],
 "metadata": {
  "kernelspec": {
   "display_name": "Python 3 (ipykernel)",
   "language": "python",
   "name": "python3"
  },
  "language_info": {
   "codemirror_mode": {
    "name": "ipython",
    "version": 3
   },
   "file_extension": ".py",
   "mimetype": "text/x-python",
   "name": "python",
   "nbconvert_exporter": "python",
   "pygments_lexer": "ipython3",
   "version": "3.9.7"
  }
 },
 "nbformat": 4,
 "nbformat_minor": 5
}
